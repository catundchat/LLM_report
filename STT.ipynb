{
  "nbformat": 4,
  "nbformat_minor": 0,
  "metadata": {
    "colab": {
      "provenance": [],
      "authorship_tag": "ABX9TyMyIY4R9n7rMdJI89CMjjr8",
      "include_colab_link": true
    },
    "kernelspec": {
      "name": "python3",
      "display_name": "Python 3"
    },
    "language_info": {
      "name": "python"
    }
  },
  "cells": [
    {
      "cell_type": "markdown",
      "metadata": {
        "id": "view-in-github",
        "colab_type": "text"
      },
      "source": [
        "<a href=\"https://colab.research.google.com/github/catundchat/LLM_report/blob/main/STT.ipynb\" target=\"_parent\"><img src=\"https://colab.research.google.com/assets/colab-badge.svg\" alt=\"Open In Colab\"/></a>"
      ]
    },
    {
      "cell_type": "markdown",
      "source": [
        "语音识别代码示例，使用方法：\n",
        "1. choose appropriate pretrained model and tokenizer\n",
        "2. load audio file\n",
        "3. run the demo to generate transcription"
      ],
      "metadata": {
        "id": "ov8jefZxlVeZ"
      }
    },
    {
      "cell_type": "code",
      "execution_count": null,
      "metadata": {
        "id": "xu5bv6cllHVe"
      },
      "outputs": [],
      "source": [
        "from transformers import Wav2Vec2ForCTC, Wav2Vec2Tokenizer\n",
        "import soundfile as sf\n",
        "\n",
        "# 加载预训练的模型和分词器\n",
        "model = Wav2Vec2ForCTC.from_pretrained(\"facebook/wav2vec2-base-960h\")\n",
        "tokenizer = Wav2Vec2Tokenizer.from_pretrained(\"facebook/wav2vec2-base-960h\")\n",
        "\n",
        "# 读取音频文件\n",
        "audio_file = \"audio_file.wav\"\n",
        "speech, _ = sf.read(audio_file)\n",
        "\n",
        "# 对音频进行分词\n",
        "input_values = tokenizer(speech, return_tensors=\"pt\").input_values\n",
        "\n",
        "# 用模型进行预测\n",
        "logits = model(input_values).logits\n",
        "\n",
        "# 获取预测结果\n",
        "predicted_ids = logits.argmax(-1)\n",
        "transcription = tokenizer.batch_decode(predicted_ids)[0]\n",
        "\n",
        "print(\"Transcription:\", transcription)\n"
      ]
    }
  ]
}