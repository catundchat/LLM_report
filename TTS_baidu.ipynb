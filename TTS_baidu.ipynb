{
  "nbformat": 4,
  "nbformat_minor": 0,
  "metadata": {
    "colab": {
      "provenance": [],
      "authorship_tag": "ABX9TyPHd8UaQcx4KeDjFOq7GRkU",
      "include_colab_link": true
    },
    "kernelspec": {
      "name": "python3",
      "display_name": "Python 3"
    },
    "language_info": {
      "name": "python"
    }
  },
  "cells": [
    {
      "cell_type": "markdown",
      "metadata": {
        "id": "view-in-github",
        "colab_type": "text"
      },
      "source": [
        "<a href=\"https://colab.research.google.com/github/catundchat/LLM_report/blob/main/TTS_baidu.ipynb\" target=\"_parent\"><img src=\"https://colab.research.google.com/assets/colab-badge.svg\" alt=\"Open In Colab\"/></a>"
      ]
    },
    {
      "cell_type": "markdown",
      "source": [
        "使用方法：从该网址注册获得API key.https://ai.baidu.com/\n",
        "将填写好后运行即可"
      ],
      "metadata": {
        "id": "6g7IBHDBhCsi"
      }
    },
    {
      "cell_type": "code",
      "execution_count": null,
      "metadata": {
        "id": "pZKhs0FegrDg"
      },
      "outputs": [],
      "source": [
        "from aip import AipSpeech\n",
        "\n",
        "# 填写完毕后运行\n",
        "app_id = ''\n",
        "api_key = ''\n",
        "secret_key = ''\n",
        "\n",
        "client = AipSpeech(app_id,api_key,secret_key)\n",
        "\n",
        "text = \"\"\"\n",
        "信息技术部门中机器学习的主要应用之一是向潜在用户或客户推荐项目。这可以分为两种主要的应用：在线广告和项目建议（通常这些建议的目的仍是为了销售产品）。两者都依赖于预测用户和项目的关联，一旦向该用户展示了广告或推荐了该产品，推荐系统要么预测一些行为的概率。\n",
        "\"\"\"\n",
        "\n",
        "result  = client.synthesis(text, 'zh', 1, {\n",
        "    'vol': 5,\n",
        "    'per': 4,\n",
        "    # spd\tString\t语速，取值0-9，默认为5中语速\t否\n",
        "    # pit\tString\t音调，取值0-9，默认为5中语调\t否\n",
        "    # vol\tString\t音量，取值0-15，默认为5中音量\t否\n",
        "    # per\tString\t发音人选择, 0为女声，1为男声，\n",
        "    # 3为情感合成-度逍遥，4为情感合成-度丫丫，默认为普通女\t否\n",
        "})\n",
        "\n",
        "# 识别正确返回语音二进制 错误则返回dict 参照下面错误码\n",
        "if not isinstance(result, dict):\n",
        "    with open('audio.mp3', 'wb') as f:\n",
        "        f.write(result)\n",
        "\n"
      ]
    }
  ]
}